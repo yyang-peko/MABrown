{
 "cells": [
  {
   "cell_type": "code",
   "execution_count": 1,
   "metadata": {},
   "outputs": [],
   "source": [
    "pd.options.mode.chained_assignment = None\n",
    "from IPython.core.interactiveshell import InteractiveShell\n",
    "InteractiveShell.ast_node_interactivity = \"all\"\n",
    "import os\n",
    "import math\n",
    "from adjustText import adjust_text\n",
    "\n",
    "sns.set(rc={'figure.figsize':(20, 30)})\n",
    "\n",
    "from sklearn.cluster import KMeans\n",
    "from sklearn import metrics\n",
    "from scipy.spatial.distance import cdist\n",
    "%matplotlib inline\n",
    "from matplotlib_venn import venn2\n",
    "import matplotlib.pyplot as plt\n",
    "import scipy as sp\n",
    "import numpy as np\n",
    "#import pyperclip as pc"
   ]
  },
  {
   "cell_type": "markdown",
   "metadata": {},
   "source": [
    "# Load files "
   ]
  },
  {
   "cell_type": "code",
   "execution_count": 2,
   "metadata": {},
   "outputs": [],
   "source": [
    "eae_genes = pd.read_csv('data\\EAE_gene_list.csv')\n",
    "ms_genes = pd.read_csv('data\\MS_related_genes.csv')\n",
    "df=pd.read_excel('data\\\\Unstim_vs_IgE_Differential_Expression.xlsx')"
   ]
  },
  {
   "cell_type": "markdown",
   "metadata": {},
   "source": [
    "# Preprocess and log transform"
   ]
  },
  {
   "cell_type": "code",
   "execution_count": 3,
   "metadata": {},
   "outputs": [],
   "source": [
    "def preprocess(df):\n",
    "    df = df[['Gene Symbol', 'Entrez ID', 'F_unstim_S4', 'M_unstim_S2', 'F_IgE_S3', 'M_IgE_S1']]\n",
    "    df = df.dropna()\n",
    "    df = df.replace(0, np.nan)\n",
    "    df = df.dropna(axis=0, thresh = 4).fillna(0)\n",
    "    return df\n",
    "def logs(i):\n",
    "    i[\"log_Mi\"] = np.log2(i['M_IgE_S1']+1)\n",
    "    i[\"log_Fi\"] = np.log2(i['F_IgE_S3']+1)\n",
    "    i[\"log_Mu\"] = np.log2(i['M_unstim_S2']+1)\n",
    "    i[\"log_Fu\"] = np.log2(i['F_unstim_S4']+1)\n",
    "    i[\"unstim_XD\"] = i[\"log_Mu\"] - i[\"log_Fu\"]\n",
    "    i[\"IgE_XD\"] = i[\"log_Mi\"] - i[\"log_Fi\"]\n",
    "    return i"
   ]
  },
  {
   "cell_type": "code",
   "execution_count": 4,
   "metadata": {},
   "outputs": [],
   "source": [
    "df = preprocess(df)\n",
    "df = logs(df)"
   ]
  },
  {
   "cell_type": "code",
   "execution_count": 5,
   "metadata": {},
   "outputs": [
    {
     "data": {
      "text/html": [
       "<div>\n",
       "<style scoped>\n",
       "    .dataframe tbody tr th:only-of-type {\n",
       "        vertical-align: middle;\n",
       "    }\n",
       "\n",
       "    .dataframe tbody tr th {\n",
       "        vertical-align: top;\n",
       "    }\n",
       "\n",
       "    .dataframe thead th {\n",
       "        text-align: right;\n",
       "    }\n",
       "</style>\n",
       "<table border=\"1\" class=\"dataframe\">\n",
       "  <thead>\n",
       "    <tr style=\"text-align: right;\">\n",
       "      <th></th>\n",
       "      <th>Gene Symbol</th>\n",
       "      <th>Entrez ID</th>\n",
       "      <th>F_unstim_S4</th>\n",
       "      <th>M_unstim_S2</th>\n",
       "      <th>F_IgE_S3</th>\n",
       "      <th>M_IgE_S1</th>\n",
       "      <th>log_Mi</th>\n",
       "      <th>log_Fi</th>\n",
       "      <th>log_Mu</th>\n",
       "      <th>log_Fu</th>\n",
       "      <th>unstim_XD</th>\n",
       "      <th>IgE_XD</th>\n",
       "    </tr>\n",
       "  </thead>\n",
       "  <tbody>\n",
       "    <tr>\n",
       "      <th>0</th>\n",
       "      <td>Ccl1</td>\n",
       "      <td>20290</td>\n",
       "      <td>4.829065</td>\n",
       "      <td>4.680695</td>\n",
       "      <td>23959.367737</td>\n",
       "      <td>43864.638069</td>\n",
       "      <td>15.420804</td>\n",
       "      <td>14.548362</td>\n",
       "      <td>2.506067</td>\n",
       "      <td>2.543265</td>\n",
       "      <td>-0.037197</td>\n",
       "      <td>0.872441</td>\n",
       "    </tr>\n",
       "    <tr>\n",
       "      <th>1</th>\n",
       "      <td>Serpinb9b</td>\n",
       "      <td>20706</td>\n",
       "      <td>0.804844</td>\n",
       "      <td>2.340347</td>\n",
       "      <td>12956.022455</td>\n",
       "      <td>9704.409675</td>\n",
       "      <td>13.244573</td>\n",
       "      <td>13.661447</td>\n",
       "      <td>1.739998</td>\n",
       "      <td>0.851874</td>\n",
       "      <td>0.888124</td>\n",
       "      <td>-0.416873</td>\n",
       "    </tr>\n",
       "    <tr>\n",
       "      <th>2</th>\n",
       "      <td>Gstt1</td>\n",
       "      <td>14871</td>\n",
       "      <td>17.706573</td>\n",
       "      <td>7.021042</td>\n",
       "      <td>2446.966235</td>\n",
       "      <td>3081.395634</td>\n",
       "      <td>11.589836</td>\n",
       "      <td>11.257368</td>\n",
       "      <td>3.003790</td>\n",
       "      <td>4.225473</td>\n",
       "      <td>-1.221684</td>\n",
       "      <td>0.332468</td>\n",
       "    </tr>\n",
       "    <tr>\n",
       "      <th>3</th>\n",
       "      <td>Il9</td>\n",
       "      <td>16198</td>\n",
       "      <td>0.000000</td>\n",
       "      <td>0.000000</td>\n",
       "      <td>3954.312500</td>\n",
       "      <td>3016.280182</td>\n",
       "      <td>11.559033</td>\n",
       "      <td>11.949576</td>\n",
       "      <td>0.000000</td>\n",
       "      <td>0.000000</td>\n",
       "      <td>0.000000</td>\n",
       "      <td>-0.390543</td>\n",
       "    </tr>\n",
       "    <tr>\n",
       "      <th>4</th>\n",
       "      <td>Slco5a1</td>\n",
       "      <td>240726</td>\n",
       "      <td>15.292041</td>\n",
       "      <td>15.212258</td>\n",
       "      <td>1585.491012</td>\n",
       "      <td>1378.461013</td>\n",
       "      <td>10.429889</td>\n",
       "      <td>10.631624</td>\n",
       "      <td>4.019013</td>\n",
       "      <td>4.026095</td>\n",
       "      <td>-0.007082</td>\n",
       "      <td>-0.201735</td>\n",
       "    </tr>\n",
       "  </tbody>\n",
       "</table>\n",
       "</div>"
      ],
      "text/plain": [
       "  Gene Symbol  Entrez ID  F_unstim_S4  M_unstim_S2      F_IgE_S3  \\\n",
       "0        Ccl1      20290     4.829065     4.680695  23959.367737   \n",
       "1   Serpinb9b      20706     0.804844     2.340347  12956.022455   \n",
       "2       Gstt1      14871    17.706573     7.021042   2446.966235   \n",
       "3         Il9      16198     0.000000     0.000000   3954.312500   \n",
       "4     Slco5a1     240726    15.292041    15.212258   1585.491012   \n",
       "\n",
       "       M_IgE_S1     log_Mi     log_Fi    log_Mu    log_Fu  unstim_XD    IgE_XD  \n",
       "0  43864.638069  15.420804  14.548362  2.506067  2.543265  -0.037197  0.872441  \n",
       "1   9704.409675  13.244573  13.661447  1.739998  0.851874   0.888124 -0.416873  \n",
       "2   3081.395634  11.589836  11.257368  3.003790  4.225473  -1.221684  0.332468  \n",
       "3   3016.280182  11.559033  11.949576  0.000000  0.000000   0.000000 -0.390543  \n",
       "4   1378.461013  10.429889  10.631624  4.019013  4.026095  -0.007082 -0.201735  "
      ]
     },
     "execution_count": 5,
     "metadata": {},
     "output_type": "execute_result"
    },
    {
     "data": {
      "text/plain": [
       "(14445, 12)"
      ]
     },
     "execution_count": 5,
     "metadata": {},
     "output_type": "execute_result"
    }
   ],
   "source": [
    "df.head()\n",
    "df.shape"
   ]
  },
  {
   "cell_type": "code",
   "execution_count": 6,
   "metadata": {
    "scrolled": false
   },
   "outputs": [],
   "source": [
    "def sexdominant(df):\n",
    "    if (df['IgE_XD'] > 0):\n",
    "        return \"M\"\n",
    "    if (df['IgE_XD'] < 0):\n",
    "        return \"F\"\n",
    "\n",
    "def heatmapper(df):\n",
    "    df['IgE dominance'] = df.apply(sexdominant, axis=1)\n",
    "    df = df[['Gene Symbol', 'log_Fu', 'log_Mu', 'log_Fi', 'log_Mi', 'IgE dominance']].set_index('Gene Symbol')\n",
    "    lut = {\"M\":\"blue\", \"F\":\"red\"}\n",
    "    row_colors =df['IgE dominance'].map(lut)\n",
    "    \n",
    "    fig = sns.clustermap(data=df[['log_Fu', 'log_Mu', 'log_Fi', 'log_Mi']], \n",
    "               z_score=0,\n",
    "               metric = 'correlation',\n",
    "               row_cluster=True, \n",
    "               col_cluster=False, \n",
    "               cmap='coolwarm',\n",
    "               figsize=(10, 15),\n",
    "               cbar_pos=(.1, .81, .05, .1),\n",
    "               row_colors=row_colors)\n",
    "    return fig"
   ]
  },
  {
   "cell_type": "code",
   "execution_count": 10,
   "metadata": {},
   "outputs": [],
   "source": [
    "df1 = df[['Gene Symbol', 'IgE_XD']]"
   ]
  },
  {
   "cell_type": "code",
   "execution_count": 17,
   "metadata": {},
   "outputs": [
    {
     "data": {
      "text/plain": [
       "Index(['Gene Symbol', 'Entrez ID', 'F_unstim_S4', 'M_unstim_S2', 'F_IgE_S3',\n",
       "       'M_IgE_S1', 'log_Mi', 'log_Fi', 'log_Mu', 'log_Fu', 'unstim_XD',\n",
       "       'IgE_XD'],\n",
       "      dtype='object')"
      ]
     },
     "execution_count": 17,
     "metadata": {},
     "output_type": "execute_result"
    }
   ],
   "source": [
    "df.columns"
   ]
  },
  {
   "cell_type": "code",
   "execution_count": 34,
   "metadata": {},
   "outputs": [],
   "source": [
    "df1['mean'] = (df['log_Mi'] + df['log_Fi'] + df['log_Mu'] + df['log_Fu']) /4"
   ]
  },
  {
   "cell_type": "code",
   "execution_count": 35,
   "metadata": {},
   "outputs": [
    {
     "data": {
      "text/plain": [
       "<AxesSubplot:xlabel='mean', ylabel='IgE_XD'>"
      ]
     },
     "execution_count": 35,
     "metadata": {},
     "output_type": "execute_result"
    },
    {
     "data": {
      "image/png": "[encoded data removed]",
      "text/plain": [
       "<Figure size 432x288 with 1 Axes>"
      ]
     },
     "metadata": {
      "needs_background": "light"
     },
     "output_type": "display_data"
    }
   ],
   "source": [
    "sns.scatterplot(data = df1, x='mean', y='IgE_XD')"
   ]
  },
  {
   "cell_type": "code",
   "execution_count": 36,
   "metadata": {},
   "outputs": [
    {
     "data": {
      "text/html": [
       "<div>\n",
       "<style scoped>\n",
       "    .dataframe tbody tr th:only-of-type {\n",
       "        vertical-align: middle;\n",
       "    }\n",
       "\n",
       "    .dataframe tbody tr th {\n",
       "        vertical-align: top;\n",
       "    }\n",
       "\n",
       "    .dataframe thead th {\n",
       "        text-align: right;\n",
       "    }\n",
       "</style>\n",
       "<table border=\"1\" class=\"dataframe\">\n",
       "  <thead>\n",
       "    <tr style=\"text-align: right;\">\n",
       "      <th></th>\n",
       "      <th>Gene Symbol</th>\n",
       "      <th>IgE_XD</th>\n",
       "      <th>mean</th>\n",
       "    </tr>\n",
       "  </thead>\n",
       "  <tbody>\n",
       "    <tr>\n",
       "      <th>0</th>\n",
       "      <td>Ccl1</td>\n",
       "      <td>0.872441</td>\n",
       "      <td>8.754625</td>\n",
       "    </tr>\n",
       "    <tr>\n",
       "      <th>1</th>\n",
       "      <td>Serpinb9b</td>\n",
       "      <td>-0.416873</td>\n",
       "      <td>7.374473</td>\n",
       "    </tr>\n",
       "    <tr>\n",
       "      <th>2</th>\n",
       "      <td>Gstt1</td>\n",
       "      <td>0.332468</td>\n",
       "      <td>7.519117</td>\n",
       "    </tr>\n",
       "    <tr>\n",
       "      <th>3</th>\n",
       "      <td>Il9</td>\n",
       "      <td>-0.390543</td>\n",
       "      <td>5.877152</td>\n",
       "    </tr>\n",
       "    <tr>\n",
       "      <th>4</th>\n",
       "      <td>Slco5a1</td>\n",
       "      <td>-0.201735</td>\n",
       "      <td>7.276655</td>\n",
       "    </tr>\n",
       "    <tr>\n",
       "      <th>...</th>\n",
       "      <td>...</td>\n",
       "      <td>...</td>\n",
       "      <td>...</td>\n",
       "    </tr>\n",
       "    <tr>\n",
       "      <th>15781</th>\n",
       "      <td>Gm6578</td>\n",
       "      <td>-0.253914</td>\n",
       "      <td>1.793452</td>\n",
       "    </tr>\n",
       "    <tr>\n",
       "      <th>15782</th>\n",
       "      <td>Abhd1</td>\n",
       "      <td>-0.656031</td>\n",
       "      <td>2.769772</td>\n",
       "    </tr>\n",
       "    <tr>\n",
       "      <th>15783</th>\n",
       "      <td>Kcnj10</td>\n",
       "      <td>-0.831502</td>\n",
       "      <td>2.010473</td>\n",
       "    </tr>\n",
       "    <tr>\n",
       "      <th>15784</th>\n",
       "      <td>Jam3</td>\n",
       "      <td>-1.851303</td>\n",
       "      <td>2.002492</td>\n",
       "    </tr>\n",
       "    <tr>\n",
       "      <th>15785</th>\n",
       "      <td>Gm13498</td>\n",
       "      <td>-0.676108</td>\n",
       "      <td>2.912716</td>\n",
       "    </tr>\n",
       "  </tbody>\n",
       "</table>\n",
       "<p>14445 rows × 3 columns</p>\n",
       "</div>"
      ],
      "text/plain": [
       "      Gene Symbol    IgE_XD      mean\n",
       "0            Ccl1  0.872441  8.754625\n",
       "1       Serpinb9b -0.416873  7.374473\n",
       "2           Gstt1  0.332468  7.519117\n",
       "3             Il9 -0.390543  5.877152\n",
       "4         Slco5a1 -0.201735  7.276655\n",
       "...           ...       ...       ...\n",
       "15781      Gm6578 -0.253914  1.793452\n",
       "15782       Abhd1 -0.656031  2.769772\n",
       "15783      Kcnj10 -0.831502  2.010473\n",
       "15784        Jam3 -1.851303  2.002492\n",
       "15785     Gm13498 -0.676108  2.912716\n",
       "\n",
       "[14445 rows x 3 columns]"
      ]
     },
     "execution_count": 36,
     "metadata": {},
     "output_type": "execute_result"
    }
   ],
   "source": [
    "df1"
   ]
  },
  {
   "cell_type": "code",
   "execution_count": null,
   "metadata": {},
   "outputs": [],
   "source": []
  }
 ],
 "metadata": {
  "kernelspec": {
   "display_name": "Python 3",
   "language": "python",
   "name": "python3"
  },
  "language_info": {
   "codemirror_mode": {
    "name": "ipython",
    "version": 3
   },
   "file_extension": ".py",
   "mimetype": "text/x-python",
   "name": "python",
   "nbconvert_exporter": "python",
   "pygments_lexer": "ipython3",
   "version": "3.8.5"
  }
 },
 "nbformat": 4,
 "nbformat_minor": 5
}
